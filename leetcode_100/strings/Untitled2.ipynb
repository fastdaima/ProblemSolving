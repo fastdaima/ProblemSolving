{
 "cells": [
  {
   "cell_type": "markdown",
   "metadata": {},
   "source": [
    "Design an algorithm to encode a list of strings to a string.\n",
    "The encoded string is then sent over the network and is decoded back to the original list of strings\n",
    "\n",
    "example\n",
    "\n",
    "encode_string = encode(['kevin','is','great'] -> \"5/kevin2/is5/great\"\n",
    "\n",
    "decode_string = decode(\"5/kevin2/is5/great/\") -> [\"kevin\",\"is\", \"great\"]"
   ]
  },
  {
   "cell_type": "code",
   "execution_count": 1,
   "metadata": {},
   "outputs": [],
   "source": [
    "from typing import List\n",
    "import re\n",
    "class Solution:\n",
    "    def encode(self,list_s:List[str])->str:\n",
    "        encoded_string = \"\"\n",
    "        for s in list_s:\n",
    "            length = len(s)\n",
    "            encoded_string += str(length)\n",
    "            encoded_string += \"/\"\n",
    "            encoded_string += s\n",
    "        \n",
    "        return encoded_string\n",
    "    \n",
    "    def decode(self,s)->List[str]:\n",
    "        ptr = 0\n",
    "        decoded_string = []    \n",
    "        while ptr < len(s):\n",
    "            slash_pos = s.index(\"/\",ptr)\n",
    "            current_word_length = int(s[slash_pos-1])\n",
    "            ptr = slash_pos + 1\n",
    "            decoded_string.append(s[ptr:ptr+current_word_length])\n",
    "            ptr += current_word_length\n",
    "        return decoded_string\n",
    "    \n",
    "    def decode_using_regex(self,s):\n",
    "        pat = r'\\d\\/'\n",
    "        s2 = re.sub(pat,\"|\",s)\n",
    "        s2 = s2.split(\"|\")\n",
    "        s2.pop(0)\n",
    "        return s2"
   ]
  },
  {
   "cell_type": "code",
   "execution_count": 2,
   "metadata": {},
   "outputs": [],
   "source": [
    " s = Solution()"
   ]
  },
  {
   "cell_type": "code",
   "execution_count": 3,
   "metadata": {},
   "outputs": [
    {
     "data": {
      "text/plain": [
       "['kevin', 'is', 'great']"
      ]
     },
     "execution_count": 3,
     "metadata": {},
     "output_type": "execute_result"
    }
   ],
   "source": [
    "s.decode(s.encode(['kevin','is','great']))"
   ]
  },
  {
   "cell_type": "code",
   "execution_count": 4,
   "metadata": {},
   "outputs": [
    {
     "data": {
      "text/plain": [
       "['kevin', 'is', 'great']"
      ]
     },
     "execution_count": 4,
     "metadata": {},
     "output_type": "execute_result"
    }
   ],
   "source": [
    "s.decode_using_regex(s.encode(['kevin','is','great']))"
   ]
  },
  {
   "cell_type": "code",
   "execution_count": 5,
   "metadata": {},
   "outputs": [],
   "source": [
    "import re"
   ]
  },
  {
   "cell_type": "code",
   "execution_count": 6,
   "metadata": {},
   "outputs": [],
   "source": [
    "string = '5/kevin2/is5/great'"
   ]
  },
  {
   "cell_type": "code",
   "execution_count": 7,
   "metadata": {},
   "outputs": [],
   "source": [
    "pat = re.compile(r'\\d\\/')"
   ]
  },
  {
   "cell_type": "code",
   "execution_count": 8,
   "metadata": {},
   "outputs": [],
   "source": [
    "matches = pat.finditer(string)"
   ]
  },
  {
   "cell_type": "code",
   "execution_count": 9,
   "metadata": {},
   "outputs": [
    {
     "name": "stdout",
     "output_type": "stream",
     "text": [
      "<re.Match object; span=(0, 2), match='5/'>\n",
      "<re.Match object; span=(7, 9), match='2/'>\n",
      "<re.Match object; span=(11, 13), match='5/'>\n"
     ]
    }
   ],
   "source": [
    "for match in matches:\n",
    "    print (match)"
   ]
  },
  {
   "cell_type": "code",
   "execution_count": 10,
   "metadata": {},
   "outputs": [
    {
     "data": {
      "text/plain": [
       "'5/kevin2/is5/great'"
      ]
     },
     "execution_count": 10,
     "metadata": {},
     "output_type": "execute_result"
    }
   ],
   "source": [
    "match.string"
   ]
  },
  {
   "cell_type": "code",
   "execution_count": 11,
   "metadata": {},
   "outputs": [
    {
     "data": {
      "text/plain": [
       "'|kevin|is|great'"
      ]
     },
     "execution_count": 11,
     "metadata": {},
     "output_type": "execute_result"
    }
   ],
   "source": [
    "string2 = re.sub(r'\\d\\/',\"|\",string);string2"
   ]
  },
  {
   "cell_type": "code",
   "execution_count": 12,
   "metadata": {},
   "outputs": [
    {
     "data": {
      "text/plain": [
       "['', 'kevin', 'is', 'great']"
      ]
     },
     "execution_count": 12,
     "metadata": {},
     "output_type": "execute_result"
    }
   ],
   "source": [
    "string2.split(\"|\")"
   ]
  },
  {
   "cell_type": "code",
   "execution_count": null,
   "metadata": {},
   "outputs": [],
   "source": []
  },
  {
   "cell_type": "code",
   "execution_count": null,
   "metadata": {},
   "outputs": [],
   "source": []
  }
 ],
 "metadata": {
  "kernelspec": {
   "display_name": "Python 3",
   "language": "python",
   "name": "python3"
  },
  "language_info": {
   "codemirror_mode": {
    "name": "ipython",
    "version": 3
   },
   "file_extension": ".py",
   "mimetype": "text/x-python",
   "name": "python",
   "nbconvert_exporter": "python",
   "pygments_lexer": "ipython3",
   "version": "3.7.6"
  }
 },
 "nbformat": 4,
 "nbformat_minor": 4
}
