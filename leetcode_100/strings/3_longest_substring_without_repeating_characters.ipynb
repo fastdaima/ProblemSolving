{
 "cells": [
  {
   "cell_type": "code",
   "execution_count": null,
   "metadata": {},
   "outputs": [],
   "source": [
    "class Solution:\n",
    "    def lengthOfLongestSubstring(self,s:str)->int:\n",
    "        start,max_length,temp_length = 0,0,0\n",
    "        hashMap = {}\n",
    "        for  ptr in range(0,len(s)):\n",
    "            if s[ptr] not in hashMap:\n",
    "                hashMap[s[ptr]] = ptr\n",
    "            else:\n",
    "                current_ptr = ptr\n",
    "                previous_ptr = hashMap.get(s[ptr])\n",
    "                current_window_length = len(s[start:ptr+1])\n",
    "                diff_ptrs_value = abs(current_ptr-previous_ptr)\n",
    "                if (diff_ptrs_value < current_window_length):\n",
    "                    start += current_window_length - diff_ptrs_value\n",
    "                hashMap[s[ptr]] = ptr\n",
    "                # print (s[start:ptr+1], start, ptr)\n",
    "            temp_length = len(s[start:ptr+1])\n",
    "            if (temp_length > max_length) :\n",
    "                # print (\"inside length\",s[start:ptr+1])\n",
    "                max_length = temp_length\n",
    "        return  max_length"
   ]
  },
  {
   "cell_type": "code",
   "execution_count": null,
   "metadata": {},
   "outputs": [],
   "source": [
    "s = Solution()\n",
    "print (s.lengthOfLongestSubstring(\"abbbbdfdfdfdfdddabcvdg\"))"
   ]
  },
  {
   "cell_type": "code",
   "execution_count": null,
   "metadata": {},
   "outputs": [],
   "source": [
    "print (s.lengthOfLongestSubstring(\"tmmzuxt\"))"
   ]
  },
  {
   "cell_type": "markdown",
   "metadata": {},
   "source": [
    "print (s.lengthOfLongestSubstring(\"abcabcbb\"))"
   ]
  },
  {
   "cell_type": "markdown",
   "metadata": {},
   "source": [
    "print (s.lengthOfLongestSubstring(\"abbba\"))"
   ]
  },
  {
   "cell_type": "markdown",
   "metadata": {},
   "source": [
    "print (s.lengthOfLongestSubstring(\"abba\"))"
   ]
  },
  {
   "cell_type": "markdown",
   "metadata": {},
   "source": [
    "class Solution:<br>\n",
    "    def lengthOfLongestSubstring(self, s: str) -> int:<br>\n",
    "        res = 0<br>\n",
    "        curr = 0<br>\n",
    "        start = 0<br>\n",
    "        seen = {}<br>\n",
    "        n = len(s)"
   ]
  },
  {
   "cell_type": "markdown",
   "metadata": {},
   "source": [
    "        for i in range(n):<br>\n",
    "            c = s[i]"
   ]
  },
  {
   "cell_type": "markdown",
   "metadata": {},
   "source": [
    "            if c in seen and seen[c] >= start:<br>\n",
    "                start = seen[c] + 1"
   ]
  },
  {
   "cell_type": "markdown",
   "metadata": {},
   "source": [
    "            curr = i - start + 1<br>\n",
    "            seen[c] = i<br>\n",
    "            res = max(res, curr)"
   ]
  },
  {
   "cell_type": "markdown",
   "metadata": {},
   "source": [
    "        return res"
   ]
  }
 ],
 "metadata": {
  "kernelspec": {
   "display_name": "Python 3",
   "language": "python",
   "name": "python3"
  },
  "language_info": {
   "codemirror_mode": {
    "name": "ipython",
    "version": 3
   },
   "file_extension": ".py",
   "mimetype": "text/x-python",
   "name": "python",
   "nbconvert_exporter": "python",
   "pygments_lexer": "ipython3",
   "version": "3.8.5"
  }
 },
 "nbformat": 4,
 "nbformat_minor": 2
}
