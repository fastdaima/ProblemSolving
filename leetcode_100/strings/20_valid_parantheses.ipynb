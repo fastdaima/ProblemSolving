{
 "cells": [
  {
   "cell_type": "code",
   "execution_count": 1,
   "metadata": {},
   "outputs": [],
   "source": [
    "class Solution:\n",
    "    def isValid(self, s:str)->bool:\n",
    "        hashMap = {\n",
    "            \")\":\"(\",\n",
    "            \"}\":\"{\",\n",
    "            \"]\": \"[\",\n",
    "            \"(\":\" \",\n",
    "            \"{\":\" \",\n",
    "            \"[\":\" \",\n",
    "        }\n",
    "        stack = []\n",
    "        for i in range(0,len(s)):\n",
    "            if len(stack) > 0 and stack[len(stack)-1] == hashMap[s[i]]:\n",
    "                stack.pop()\n",
    "            else:\n",
    "                stack.append(s[i])\n",
    "                \n",
    "            '''\n",
    "            stack = []\n",
    "            hashMap = {\n",
    "            \"(\":\")\",\n",
    "            \"{\":\"}\",\n",
    "            \"[\":\"]\",\n",
    "            }\n",
    "            for char in s:\n",
    "                if char in hashMap:\n",
    "                    stack.append(char)\n",
    "                elif len(stack)==0 or hashMap(stack.pop())!=char:\n",
    "                    return False\n",
    "            return len(stack)==0\n",
    "            '''\n",
    "                \n",
    "        return True if(len(stack)==0) else False"
   ]
  },
  {
   "cell_type": "code",
   "execution_count": 2,
   "metadata": {},
   "outputs": [],
   "source": [
    "s = Solution()"
   ]
  },
  {
   "cell_type": "code",
   "execution_count": 3,
   "metadata": {},
   "outputs": [
    {
     "data": {
      "text/plain": [
       "True"
      ]
     },
     "execution_count": 3,
     "metadata": {},
     "output_type": "execute_result"
    }
   ],
   "source": [
    "s.isValid(\"()\")"
   ]
  },
  {
   "cell_type": "code",
   "execution_count": 4,
   "metadata": {},
   "outputs": [
    {
     "data": {
      "text/plain": [
       "True"
      ]
     },
     "execution_count": 4,
     "metadata": {},
     "output_type": "execute_result"
    }
   ],
   "source": [
    "s.isValid(\"()[]{}\")"
   ]
  },
  {
   "cell_type": "code",
   "execution_count": 5,
   "metadata": {},
   "outputs": [
    {
     "data": {
      "text/plain": [
       "False"
      ]
     },
     "execution_count": 5,
     "metadata": {},
     "output_type": "execute_result"
    }
   ],
   "source": [
    "s.isValid(\"(]\")"
   ]
  },
  {
   "cell_type": "code",
   "execution_count": 6,
   "metadata": {},
   "outputs": [
    {
     "data": {
      "text/plain": [
       "False"
      ]
     },
     "execution_count": 6,
     "metadata": {},
     "output_type": "execute_result"
    }
   ],
   "source": [
    "s.isValid(\"([)]\")"
   ]
  },
  {
   "cell_type": "code",
   "execution_count": 7,
   "metadata": {},
   "outputs": [
    {
     "data": {
      "text/plain": [
       "True"
      ]
     },
     "execution_count": 7,
     "metadata": {},
     "output_type": "execute_result"
    }
   ],
   "source": [
    "s.isValid(\"{[]}\")"
   ]
  },
  {
   "cell_type": "code",
   "execution_count": null,
   "metadata": {},
   "outputs": [],
   "source": []
  }
 ],
 "metadata": {
  "kernelspec": {
   "display_name": "Python 3",
   "language": "python",
   "name": "python3"
  },
  "language_info": {
   "codemirror_mode": {
    "name": "ipython",
    "version": 3
   },
   "file_extension": ".py",
   "mimetype": "text/x-python",
   "name": "python",
   "nbconvert_exporter": "python",
   "pygments_lexer": "ipython3",
   "version": "3.7.6"
  }
 },
 "nbformat": 4,
 "nbformat_minor": 4
}
