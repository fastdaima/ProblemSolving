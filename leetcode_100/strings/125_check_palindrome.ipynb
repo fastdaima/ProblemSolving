{
 "cells": [
  {
   "cell_type": "code",
   "execution_count": 1,
   "metadata": {},
   "outputs": [],
   "source": [
    "import re\n",
    "from typing import *\n",
    "class Solution:\n",
    "    def isPalindrome(self, s:str)->bool:\n",
    "        s = re.sub(r'[\\W_]',\"\",s).lower()\n",
    "        print (s)\n",
    "        start = 0\n",
    "        end = len(s)-1\n",
    "        out = True\n",
    "        while(start<end):\n",
    "            if (s[start] ==s[end]):\n",
    "                start+=1\n",
    "                end -=1\n",
    "            else:\n",
    "                print (start,end)\n",
    "                print (s[start],s[end])\n",
    "                out = False\n",
    "            if (out == False):\n",
    "                return out\n",
    "        return out"
   ]
  },
  {
   "cell_type": "code",
   "execution_count": 2,
   "metadata": {},
   "outputs": [
    {
     "name": "stdout",
     "output_type": "stream",
     "text": [
      "aguokepatgbnvfqmgmlcupuufxoohdfpgjdmysgvhmvffcnqxjjxqncffvmhvgsymdjgpfdhooxfuupuculmgmqfvnbgtapekouga\n",
      "19 81\n",
      "c u\n",
      "False\n"
     ]
    }
   ],
   "source": [
    "s= Solution()\n",
    "t = \"aguokepatgbnvfqmgmlcupuufxoohdfpgjdmysgvhmvffcnqxjjxqncffvmhvgsymdjgpfdhooxfuupuculmgmqfvnbgtapekouga\"\n",
    "print (s.isPalindrome(t))"
   ]
  },
  {
   "cell_type": "code",
   "execution_count": null,
   "metadata": {},
   "outputs": [],
   "source": []
  }
 ],
 "metadata": {
  "kernelspec": {
   "display_name": "Python 3",
   "language": "python",
   "name": "python3"
  },
  "language_info": {
   "codemirror_mode": {
    "name": "ipython",
    "version": 3
   },
   "file_extension": ".py",
   "mimetype": "text/x-python",
   "name": "python",
   "nbconvert_exporter": "python",
   "pygments_lexer": "ipython3",
   "version": "3.8.5"
  }
 },
 "nbformat": 4,
 "nbformat_minor": 4
}
