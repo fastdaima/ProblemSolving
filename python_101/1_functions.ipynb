{
 "cells": [
  {
   "cell_type": "code",
   "execution_count": 1,
   "id": "f0207594-e43a-41c3-9643-56d370482482",
   "metadata": {},
   "outputs": [],
   "source": [
    "import dis"
   ]
  },
  {
   "cell_type": "code",
   "execution_count": 3,
   "id": "43a7a4fa-b4da-48b3-9758-b7c6a0f1bb26",
   "metadata": {},
   "outputs": [],
   "source": [
    " def hello(a,b='1'): return f'hello {a} {b}'"
   ]
  },
  {
   "cell_type": "code",
   "execution_count": 5,
   "id": "1a1756e4-cfea-40e6-80d7-fb027f515744",
   "metadata": {},
   "outputs": [
    {
     "data": {
      "text/plain": [
       "2"
      ]
     },
     "execution_count": 5,
     "metadata": {},
     "output_type": "execute_result"
    }
   ],
   "source": [
    "hello.__code__.co_argcount\n"
   ]
  },
  {
   "cell_type": "code",
   "execution_count": 7,
   "id": "5c0d47db-bfec-4aa9-8c58-ee43ce1e86d6",
   "metadata": {},
   "outputs": [
    {
     "data": {
      "text/plain": [
       "('1',)"
      ]
     },
     "execution_count": 7,
     "metadata": {},
     "output_type": "execute_result"
    }
   ],
   "source": [
    "hello.__defaults__"
   ]
  },
  {
   "cell_type": "code",
   "execution_count": 12,
   "id": "7ed1ee7c-b628-4672-8c6c-669b196ad1c1",
   "metadata": {},
   "outputs": [],
   "source": [
    "def add_one(x=[]):\n",
    "    if x is None: x = []\n",
    "    x.append(1)\n",
    "    return x "
   ]
  },
  {
   "cell_type": "code",
   "execution_count": 13,
   "id": "c73f3a1e-b347-4f47-a1e4-43574ea66d38",
   "metadata": {},
   "outputs": [
    {
     "data": {
      "text/plain": [
       "([],)"
      ]
     },
     "execution_count": 13,
     "metadata": {},
     "output_type": "execute_result"
    }
   ],
   "source": [
    "add_one.__defaults__"
   ]
  },
  {
   "cell_type": "code",
   "execution_count": 14,
   "id": "5b82a687-66fb-4bda-9714-156b940d05e5",
   "metadata": {},
   "outputs": [
    {
     "data": {
      "text/plain": [
       "[1]"
      ]
     },
     "execution_count": 14,
     "metadata": {},
     "output_type": "execute_result"
    }
   ],
   "source": [
    "add_one()"
   ]
  },
  {
   "cell_type": "code",
   "execution_count": 15,
   "id": "d8fb0871-b28d-4ff0-863c-28b7276d976c",
   "metadata": {},
   "outputs": [
    {
     "data": {
      "text/plain": [
       "([1],)"
      ]
     },
     "execution_count": 15,
     "metadata": {},
     "output_type": "execute_result"
    }
   ],
   "source": [
    "add_one.__defaults__"
   ]
  },
  {
   "cell_type": "code",
   "execution_count": 16,
   "id": "dc5826bc-6a36-4358-ba30-91e133db04bb",
   "metadata": {},
   "outputs": [
    {
     "data": {
      "text/plain": [
       "[1, 1]"
      ]
     },
     "execution_count": 16,
     "metadata": {},
     "output_type": "execute_result"
    }
   ],
   "source": [
    "add_one()"
   ]
  },
  {
   "cell_type": "code",
   "execution_count": 17,
   "id": "5297af2e-758f-471d-b418-6695d2104ec5",
   "metadata": {},
   "outputs": [
    {
     "data": {
      "text/plain": [
       "([1, 1],)"
      ]
     },
     "execution_count": 17,
     "metadata": {},
     "output_type": "execute_result"
    }
   ],
   "source": [
    "add_one.__defaults__"
   ]
  },
  {
   "cell_type": "code",
   "execution_count": 18,
   "id": "408fab75-998a-4471-8760-434c53e73128",
   "metadata": {},
   "outputs": [],
   "source": [
    "import dis "
   ]
  },
  {
   "cell_type": "code",
   "execution_count": 19,
   "id": "ae9e3837-a4dd-44c0-8090-c560a5cda655",
   "metadata": {},
   "outputs": [
    {
     "name": "stdout",
     "output_type": "stream",
     "text": [
      "  2           0 LOAD_FAST                0 (x)\n",
      "              2 LOAD_CONST               0 (None)\n",
      "              4 IS_OP                    0\n",
      "              6 POP_JUMP_IF_FALSE        6 (to 12)\n",
      "              8 BUILD_LIST               0\n",
      "             10 STORE_FAST               0 (x)\n",
      "\n",
      "  3     >>   12 LOAD_FAST                0 (x)\n",
      "             14 LOAD_METHOD              0 (append)\n",
      "             16 LOAD_CONST               1 (1)\n",
      "             18 CALL_METHOD              1\n",
      "             20 POP_TOP\n",
      "\n",
      "  4          22 LOAD_FAST                0 (x)\n",
      "             24 RETURN_VALUE\n"
     ]
    }
   ],
   "source": [
    "dis.dis(add_one)"
   ]
  },
  {
   "cell_type": "code",
   "execution_count": 20,
   "id": "6fb430ea-ecc6-42af-870f-49bfe77dbf3a",
   "metadata": {},
   "outputs": [],
   "source": [
    "def add_one(x=None):\n",
    "    if x is None: x = []\n",
    "    x.append(1)\n",
    "    return x "
   ]
  },
  {
   "cell_type": "code",
   "execution_count": 21,
   "id": "a2a24cd8-c219-41f7-88ea-9643409c59cd",
   "metadata": {},
   "outputs": [
    {
     "name": "stdout",
     "output_type": "stream",
     "text": [
      "  2           0 LOAD_FAST                0 (x)\n",
      "              2 LOAD_CONST               0 (None)\n",
      "              4 IS_OP                    0\n",
      "              6 POP_JUMP_IF_FALSE        6 (to 12)\n",
      "              8 BUILD_LIST               0\n",
      "             10 STORE_FAST               0 (x)\n",
      "\n",
      "  3     >>   12 LOAD_FAST                0 (x)\n",
      "             14 LOAD_METHOD              0 (append)\n",
      "             16 LOAD_CONST               1 (1)\n",
      "             18 CALL_METHOD              1\n",
      "             20 POP_TOP\n",
      "\n",
      "  4          22 LOAD_FAST                0 (x)\n",
      "             24 RETURN_VALUE\n"
     ]
    }
   ],
   "source": [
    "dis.dis(add_one)"
   ]
  },
  {
   "cell_type": "code",
   "execution_count": null,
   "id": "07340091-a7d2-4f24-80b5-714fae364ff8",
   "metadata": {},
   "outputs": [],
   "source": []
  }
 ],
 "metadata": {
  "kernelspec": {
   "display_name": "Python 3 (ipykernel)",
   "language": "python",
   "name": "python3"
  },
  "language_info": {
   "codemirror_mode": {
    "name": "ipython",
    "version": 3
   },
   "file_extension": ".py",
   "mimetype": "text/x-python",
   "name": "python",
   "nbconvert_exporter": "python",
   "pygments_lexer": "ipython3",
   "version": "3.10.13"
  }
 },
 "nbformat": 4,
 "nbformat_minor": 5
}
