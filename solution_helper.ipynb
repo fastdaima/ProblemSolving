{
 "cells": [
  {
   "cell_type": "code",
   "execution_count": 5,
   "outputs": [
    {
     "name": "stdout",
     "output_type": "stream",
     "text": [
      "['/home/sirakr/Videos/python_21_06_22/high_performance_computing/1 - Getting Started with Faster and Efficient Python Code', '/home/sirakr/Videos/python_21_06_22/high_performance_computing/2 - Parallel Programming in Python', '/home/sirakr/Videos/python_21_06_22/high_performance_computing/3 - Using NumPy and SciPy to Speedup Computations', '/home/sirakr/Videos/python_21_06_22/high_performance_computing/4 - Optimizing Python Code Using Cython', '/home/sirakr/Videos/python_21_06_22/high_performance_computing/5 - Speeding Up Your Python Code Using Numba', '/home/sirakr/Videos/python_21_06_22/high_performance_computing/6 - Distributed Computing Using Python', '/home/sirakr/Videos/python_21_06_22/high_performance_computing/7 - Distributed Programming Using Dask', '/home/sirakr/Videos/python_21_06_22/high_performance_computing/8 - Reactive Programming Using Python']\n"
     ]
    }
   ],
   "source": [
    "import os\n",
    "import glob\n",
    "import datetime\n",
    "from pathlib import Path\n",
    "import time\n",
    "\n",
    "start = time.monotonic()\n",
    "\n",
    "\n",
    "def return_int(str_, sep):\n",
    "    # print(int(str_.split(\" \")[0]))\n",
    "    str_ = str_.split(\"/\")[-1].split(sep)[0]\n",
    "    for ind in range(0,len(str_)):\n",
    "        if str_[ind] != '0':\n",
    "            return int(str_[ind:])\n",
    "\n",
    "def return_files(src, sep=None):\n",
    "    files = list(\n",
    "        filter(\n",
    "            os.path.isfile,\n",
    "            glob.glob(os.path.join(src, \"*.mp4\"))\n",
    "        )\n",
    "    )\n",
    "    files.sort(key=lambda x:return_int(x, sep))\n",
    "    return files\n",
    "\n",
    "\n",
    "\n",
    "src = \"/home/sirakr/Videos/python_21_06_22/high_performance_computing\"\n",
    "\n",
    "file_paths = []\n",
    "\n",
    "for p,d,f in os.walk(src):\n",
    "    for o in sorted(d):\n",
    "        file_paths.append(os.path.join(p, o))\n",
    "\n",
    "print(file_paths)\n"
   ],
   "metadata": {
    "collapsed": false,
    "pycharm": {
     "name": "#%%\n"
    }
   }
  },
  {
   "cell_type": "code",
   "execution_count": null,
   "outputs": [],
   "source": [],
   "metadata": {
    "collapsed": false,
    "pycharm": {
     "name": "#%%\n"
    }
   }
  },
  {
   "cell_type": "code",
   "execution_count": 7,
   "outputs": [
    {
     "name": "stdout",
     "output_type": "stream",
     "text": [
      "/home/sirakr/Videos/python_21_06_22/high_performance_computing/1 - Getting Started with Faster and Efficient Python Code/01. The Course Overview.mp4\n",
      "/home/sirakr/Videos/python_21_06_22/high_performance_computing/1 - Getting Started with Faster and Efficient Python Code/02. Exploring Python Datatypes.mp4\n",
      "/home/sirakr/Videos/python_21_06_22/high_performance_computing/1 - Getting Started with Faster and Efficient Python Code/03. Using Lambda Expressions.mp4\n",
      "/home/sirakr/Videos/python_21_06_22/high_performance_computing/1 - Getting Started with Faster and Efficient Python Code/04. Comprehensions for Speedups.mp4\n",
      "/home/sirakr/Videos/python_21_06_22/high_performance_computing/1 - Getting Started with Faster and Efficient Python Code/05. Generators and Iterators.mp4\n",
      "/home/sirakr/Videos/python_21_06_22/high_performance_computing/1 - Getting Started with Faster and Efficient Python Code/06. Using Decorators for Time Analysis.mp4\n",
      "/home/sirakr/Videos/python_21_06_22/high_performance_computing/2 - Parallel Programming in Python/07. Introduction to the Threading Module.mp4\n",
      "/home/sirakr/Videos/python_21_06_22/high_performance_computing/2 - Parallel Programming in Python/08. Using Threads with Locks.mp4\n",
      "/home/sirakr/Videos/python_21_06_22/high_performance_computing/2 - Parallel Programming in Python/09. Global Interpreter Lock.mp4\n",
      "/home/sirakr/Videos/python_21_06_22/high_performance_computing/2 - Parallel Programming in Python/10. Multiprocessing in Python.mp4\n",
      "/home/sirakr/Videos/python_21_06_22/high_performance_computing/2 - Parallel Programming in Python/11. Using a Pool of Workers.mp4\n",
      "/home/sirakr/Videos/python_21_06_22/high_performance_computing/3 - Using NumPy and SciPy to Speedup Computations/12. Introduction to NumPy.mp4\n",
      "/home/sirakr/Videos/python_21_06_22/high_performance_computing/3 - Using NumPy and SciPy to Speedup Computations/13. Exploring NumPy Arrays.mp4\n",
      "/home/sirakr/Videos/python_21_06_22/high_performance_computing/3 - Using NumPy and SciPy to Speedup Computations/14. Indexing in NumPy Arrays.mp4\n",
      "/home/sirakr/Videos/python_21_06_22/high_performance_computing/3 - Using NumPy and SciPy to Speedup Computations/15. Operations and Broadcasting on NumPy Arrays.mp4\n",
      "/home/sirakr/Videos/python_21_06_22/high_performance_computing/3 - Using NumPy and SciPy to Speedup Computations/16. Performance Comparison of NumPy Arrays.mp4\n",
      "/home/sirakr/Videos/python_21_06_22/high_performance_computing/3 - Using NumPy and SciPy to Speedup Computations/17. Combining SciPy with NumPy.mp4\n",
      "/home/sirakr/Videos/python_21_06_22/high_performance_computing/4 - Optimizing Python Code Using Cython/18. Introduction to Cython.mp4\n",
      "/home/sirakr/Videos/python_21_06_22/high_performance_computing/4 - Optimizing Python Code Using Cython/19. Implement a Program Using Cython.mp4\n",
      "/home/sirakr/Videos/python_21_06_22/high_performance_computing/4 - Optimizing Python Code Using Cython/20. Time Analysis of a Cython Program.mp4\n",
      "/home/sirakr/Videos/python_21_06_22/high_performance_computing/4 - Optimizing Python Code Using Cython/21. Cython Data Types.mp4\n",
      "/home/sirakr/Videos/python_21_06_22/high_performance_computing/4 - Optimizing Python Code Using Cython/22. Using Cython Functions.mp4\n",
      "/home/sirakr/Videos/python_21_06_22/high_performance_computing/4 - Optimizing Python Code Using Cython/23. Combining NumPy and Cython.mp4\n",
      "/home/sirakr/Videos/python_21_06_22/high_performance_computing/5 - Speeding Up Your Python Code Using Numba/24. Introduction to Numba.mp4\n",
      "/home/sirakr/Videos/python_21_06_22/high_performance_computing/5 - Speeding Up Your Python Code Using Numba/25. Setting Up Numba.mp4\n",
      "/home/sirakr/Videos/python_21_06_22/high_performance_computing/5 - Speeding Up Your Python Code Using Numba/26. Creating Your First Program with Numba.mp4\n",
      "/home/sirakr/Videos/python_21_06_22/high_performance_computing/5 - Speeding Up Your Python Code Using Numba/27. Digging Deeper into Numba.mp4\n",
      "/home/sirakr/Videos/python_21_06_22/high_performance_computing/5 - Speeding Up Your Python Code Using Numba/28. Threading Using Numba.mp4\n",
      "/home/sirakr/Videos/python_21_06_22/high_performance_computing/5 - Speeding Up Your Python Code Using Numba/29. Performance Comparison with Numba.mp4\n",
      "/home/sirakr/Videos/python_21_06_22/high_performance_computing/6 - Distributed Computing Using Python/30. Introduction to Synchronous Programming.mp4\n",
      "/home/sirakr/Videos/python_21_06_22/high_performance_computing/6 - Distributed Computing Using Python/31. Understanding Asynchronous Programming.mp4\n",
      "/home/sirakr/Videos/python_21_06_22/high_performance_computing/6 - Distributed Computing Using Python/32. Asynchronous Programming in Python.mp4\n",
      "/home/sirakr/Videos/python_21_06_22/high_performance_computing/6 - Distributed Computing Using Python/33. Distributed Systems Architecture.mp4\n",
      "/home/sirakr/Videos/python_21_06_22/high_performance_computing/7 - Distributed Programming Using Dask/34. Introduction to Dask.mp4\n",
      "/home/sirakr/Videos/python_21_06_22/high_performance_computing/7 - Distributed Programming Using Dask/35. Setting Up Dask.mp4\n",
      "/home/sirakr/Videos/python_21_06_22/high_performance_computing/7 - Distributed Programming Using Dask/36. Blocked Algorithms and Dask Arrays.mp4\n",
      "/home/sirakr/Videos/python_21_06_22/high_performance_computing/7 - Distributed Programming Using Dask/37. Writing Your First Program Using Dask.mp4\n",
      "/home/sirakr/Videos/python_21_06_22/high_performance_computing/7 - Distributed Programming Using Dask/38. Using @delayed to Parallelize Code.mp4\n",
      "/home/sirakr/Videos/python_21_06_22/high_performance_computing/7 - Distributed Programming Using Dask/39. Performance Comparison with Dask.mp4\n",
      "/home/sirakr/Videos/python_21_06_22/high_performance_computing/8 - Reactive Programming Using Python/40. Introduction to Reactive Programming.mp4\n",
      "/home/sirakr/Videos/python_21_06_22/high_performance_computing/8 - Reactive Programming Using Python/41. Observables and Observers.mp4\n"
     ]
    }
   ],
   "source": [
    "\n",
    "\n",
    "total_files = []\n",
    "\n",
    "for f in file_paths:\n",
    "    videos = return_files(f,\".\")\n",
    "    for o in videos:\n",
    "        total_files.append(o)\n",
    "\n",
    "for o in total_files: print(o)"
   ],
   "metadata": {
    "collapsed": false,
    "pycharm": {
     "name": "#%%\n"
    }
   }
  },
  {
   "cell_type": "code",
   "execution_count": 8,
   "outputs": [],
   "source": [
    "\n",
    "file_list = os.path.join(src, \"file.txt\")\n",
    "\n",
    "with open(file_list , 'w+') as f:\n",
    "    for o in total_files:\n",
    "        f.write(\n",
    "            \"file '\" + o + \"'\\n\"\n",
    "        )\n"
   ],
   "metadata": {
    "collapsed": false,
    "pycharm": {
     "name": "#%%\n"
    }
   }
  },
  {
   "cell_type": "code",
   "execution_count": null,
   "outputs": [],
   "source": [
    "\n",
    "out_file = os.path.join(src, 'datastructures_basics.mp4')\n",
    "print(file_list, out_file)\n",
    "print(f'ffmpeg -f concat -safe 0 -i {file_list} {out_file}')\n",
    "\n",
    "os.system(f'ffmpeg -f concat -safe 0 -i {file_list} {out_file}')\n",
    "\n",
    "print(f\"Total Time Taken: {datetime.timedelta(seconds=time.monotonic() - start)}\")\n",
    "\n",
    "\n"
   ],
   "metadata": {
    "collapsed": false,
    "pycharm": {
     "name": "#%%\n"
    }
   }
  },
  {
   "cell_type": "code",
   "execution_count": null,
   "outputs": [],
   "source": [
    "class Node:\n",
    "    def __init__(self, val):\n",
    "        self.val = val\n",
    "        self.parent = self\n",
    "        self.size = 1\n",
    "\n",
    "class UnionFind:\n",
    "    def find(self, node):\n",
    "        if node.parent != node:\n",
    "            node.parent = self.find(node.parent)\n",
    "        return node.parent\n",
    "\n",
    "    def union(self, node1, node2):\n",
    "        parent_1 = self.find(node1)\n",
    "        parent_2 = self.find(node2)\n",
    "        if parent_1 != parent_2:\n",
    "            parent_2.parent = parent_1\n",
    "            parent_1.size += parent_2.size\n",
    "        return parent_1.size\n",
    "\n",
    "\n",
    "\n",
    "class Solution:\n",
    "    def longestConsecutive(self, nums: List[int]) -> int:\n",
    "        uf = UnionFind()\n",
    "        nodes = {}\n",
    "        max_size = 0\n",
    "        for num in nums:\n",
    "            if num not in nodes:\n",
    "                node = Node(num)\n",
    "                nodes[num] = node\n",
    "                size = 1\n",
    "                if num + 1 in nodes:\n",
    "                    size = uf.union(node, nodes[num+1])\n",
    "                if num - 1 in nodes:\n",
    "                    size = uf.union(node, nodes[num-1])\n",
    "                max_size = max(max_size, size)\n",
    "\n",
    "        return max_size"
   ],
   "metadata": {
    "collapsed": false,
    "pycharm": {
     "name": "#%%\n"
    }
   }
  }
 ],
 "metadata": {
  "kernelspec": {
   "display_name": "Python 3 (ipykernel)",
   "language": "python",
   "name": "python3"
  },
  "language_info": {
   "codemirror_mode": {
    "name": "ipython",
    "version": 3
   },
   "file_extension": ".py",
   "mimetype": "text/x-python",
   "name": "python",
   "nbconvert_exporter": "python",
   "pygments_lexer": "ipython3",
   "version": "3.8.12"
  }
 },
 "nbformat": 4,
 "nbformat_minor": 5
}