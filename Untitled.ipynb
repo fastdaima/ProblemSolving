{
 "cells": [
  {
   "cell_type": "code",
   "execution_count": 1,
   "id": "0d2c0f3f-a326-4b90-b3a9-0e12f59088f9",
   "metadata": {},
   "outputs": [],
   "source": [
    "from typing import List"
   ]
  },
  {
   "cell_type": "code",
   "execution_count": 8,
   "id": "de964d54-8800-4bbd-814a-17307a7eb600",
   "metadata": {},
   "outputs": [],
   "source": [
    "class Solution:\n",
    "    def helper(self, interval1, interval2):\n",
    "        flag = False \n",
    "        i1, i2 = interval1\n",
    "        j1, j2 = interval2 \n",
    "\n",
    "        if j1 < i1:\n",
    "            j1,j2 = interval1\n",
    "            i1,i2 = interval2\n",
    "        print(i1, i2, j1, j2)\n",
    "        if i2 >= j1:\n",
    "            print([min(i1, i2), max(i2, j2)])\n",
    "            return False,[min(i1, i2), max(i2, j2)]\n",
    "        return True, interval1\n",
    "\n",
    "\n",
    "    def merge(self, intervals: List[List[int]]) -> List[List[int]]:\n",
    "        if len(intervals)==1:\n",
    "            return intervals\n",
    "\n",
    "        if len(intervals)==2:\n",
    "            flag, last = self.helper(intervals[0], intervals[1])\n",
    "            if not flag:\n",
    "                return [last]\n",
    "            return intervals\n",
    "        out = []\n",
    "        last = intervals[0]\n",
    "        flag = False\n",
    "\n",
    "\n",
    "        for ind in range(1, len(intervals)):\n",
    "            flag, last = self.helper(last, intervals[ind])\n",
    "            \n",
    "            if flag: \n",
    "                out.append(last)\n",
    "                last = intervals[ind]\n",
    "\n",
    "        if not flag: out.append(last)\n",
    "\n",
    "        return out"
   ]
  },
  {
   "cell_type": "code",
   "execution_count": 9,
   "id": "0f9a16af-3381-41d0-8fc0-a5f3929bfa9f",
   "metadata": {},
   "outputs": [
    {
     "name": "stdout",
     "output_type": "stream",
     "text": [
      "0 2 1 4\n",
      "[0, 4]\n",
      "0 4 3 5\n",
      "[0, 5]\n"
     ]
    },
    {
     "data": {
      "text/plain": [
       "[[0, 5]]"
      ]
     },
     "execution_count": 9,
     "metadata": {},
     "output_type": "execute_result"
    }
   ],
   "source": [
    "s = Solution()\n",
    "s.merge([[1,4],[0,2],[3,5]])\n"
   ]
  },
  {
   "cell_type": "code",
   "execution_count": 12,
   "id": "27dc769f-4ffc-4e51-983d-19080cb8989d",
   "metadata": {},
   "outputs": [
    {
     "data": {
      "text/plain": [
       "[[1, 10], [2, 3], [4, 5], [6, 7], [8, 9]]"
      ]
     },
     "execution_count": 12,
     "metadata": {},
     "output_type": "execute_result"
    }
   ],
   "source": [
    "sorted([[2,3],[4,5],[6,7],[8,9],[1,10]],key=lambda l:l[0])\n"
   ]
  },
  {
   "cell_type": "code",
   "execution_count": null,
   "id": "a43000a6-97e7-4373-8d2c-0a098b536e9f",
   "metadata": {},
   "outputs": [],
   "source": []
  }
 ],
 "metadata": {
  "kernelspec": {
   "display_name": "Python 3 (ipykernel)",
   "language": "python",
   "name": "python3"
  },
  "language_info": {
   "codemirror_mode": {
    "name": "ipython",
    "version": 3
   },
   "file_extension": ".py",
   "mimetype": "text/x-python",
   "name": "python",
   "nbconvert_exporter": "python",
   "pygments_lexer": "ipython3",
   "version": "3.8.12"
  }
 },
 "nbformat": 4,
 "nbformat_minor": 5
}
