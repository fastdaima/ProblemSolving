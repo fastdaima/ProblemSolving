{
 "cells": [
  {
   "cell_type": "code",
   "execution_count": 20,
   "outputs": [],
   "source": [
    "class UnionFind:\n",
    "    def __init__(self, n):\n",
    "        self.parent = list(range(n))\n",
    "        self.rank = [1] * n\n",
    "\n",
    "    def find(self, x):\n",
    "        if self.parent[x] != x:\n",
    "            self.parent[x] = self.find(self.parent[x])\n",
    "        return self.parent[x]\n",
    "\n",
    "    def union(self, x, y):\n",
    "        root_x = self.find(x)\n",
    "        root_y = self.find(y)\n",
    "        if root_x != root_y:\n",
    "            if self.rank[root_x] < self.rank[root_y]:\n",
    "                self.parent[root_x] = root_y\n",
    "                self.rank[root_y] += 1\n",
    "            elif self.rank[root_x] > self.rank[root_y]:\n",
    "                self.parent[root_y] = root_x\n",
    "                self.rank[root_x] += 1\n",
    "            else:\n",
    "                self.parent[root_y] = root_x\n",
    "                self.rank[root_x] += 1\n",
    "#\n",
    "# friends = [\"Alice\", \"Bob\", \"Charlie\", \"Dave\", \"Eve\"]\n",
    "#\n",
    "# uf = UnionFind(len(friends))\n",
    "#\n",
    "# uf.union(0, 1) # Alice and Bob are friends\n",
    "# uf.union(1, 2) # Bob and Charlie are friends\n",
    "# uf.union(3, 4) # Dave and Eve are friends\n",
    "#\n",
    "# print(uf.find(0) == uf.find(2)) # True, Alice and Charlie are indirectly connected through Bob\n",
    "# print(uf.find(1) == uf.find(3)) # False, Bob and Dave are not connected"
   ],
   "metadata": {
    "collapsed": false,
    "pycharm": {
     "name": "#%%\n"
    }
   }
  },
  {
   "cell_type": "code",
   "execution_count": 23,
   "outputs": [
    {
     "name": "stdout",
     "output_type": "stream",
     "text": [
      "[1, 4, 1, 1, 1, 1]\n",
      "[0, 1, 1, 1, 1, 5]\n",
      "4\n",
      "[9, 1, 1, 1, 1, 1, 1, 1, 1]\n",
      "[0, 0, 0, 0, 0, 0, 0, 0, 0]\n",
      "9\n",
      "[]\n",
      "[]\n",
      "0\n"
     ]
    }
   ],
   "source": [
    "inps = [[100,4,200,1,3,2], [0,3,7,2,5,8,4,6,0,1], []]\n",
    "\n",
    "for inp in inps:\n",
    "    hash_map = {}\n",
    "    hash_set = set(inp)\n",
    "\n",
    "    uf = UnionFind(len(hash_set))\n",
    "\n",
    "    for num in hash_set:\n",
    "        if num+1 in hash_set:\n",
    "            uf.union(num, num+1)\n",
    "        if num-1 in hash_set:\n",
    "            uf.union(num, num-1)\n",
    "\n",
    "\n",
    "    print(uf.rank)\n",
    "    print(uf.parent)\n",
    "    print(max(uf.rank)) if uf.rank else print(0)\n",
    "    # print(uf.rank)\n",
    "    # print(max(ranks) if ranks else 0)\n"
   ],
   "metadata": {
    "collapsed": false,
    "pycharm": {
     "name": "#%%\n"
    }
   }
  },
  {
   "cell_type": "code",
   "execution_count": null,
   "outputs": [],
   "source": [],
   "metadata": {
    "collapsed": false,
    "pycharm": {
     "name": "#%%\n"
    }
   }
  }
 ],
 "metadata": {
  "kernelspec": {
   "display_name": "Python 3",
   "language": "python",
   "name": "python3"
  },
  "language_info": {
   "codemirror_mode": {
    "name": "ipython",
    "version": 2
   },
   "file_extension": ".py",
   "mimetype": "text/x-python",
   "name": "python",
   "nbconvert_exporter": "python",
   "pygments_lexer": "ipython2",
   "version": "2.7.6"
  }
 },
 "nbformat": 4,
 "nbformat_minor": 0
}