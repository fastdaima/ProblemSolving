{
 "cells": [
  {
   "cell_type": "code",
   "execution_count": 3,
   "id": "381fda9d",
   "metadata": {},
   "outputs": [],
   "source": [
    "class Solution(object):\n",
    "    def subarraySum(self, nums, k):\n",
    "        \"\"\"\n",
    "        :type nums: List[int]\n",
    "        :type k: int\n",
    "        :rtype: int\n",
    "        \"\"\"\n",
    "        count = 0\n",
    "        sums = 0\n",
    "        d = dict()\n",
    "        d[0] = 1\n",
    "        \n",
    "        sum_arr = [0 for _ in range(len(nums)+1)]\n",
    "        \n",
    "        for ind in range(1,len(nums)+1):\n",
    "            sum_arr[ind] = sum_arr[ind-1]+nums[ind-1]\n",
    "        \n",
    "        print (sum_arr)\n",
    "        \n",
    "        for i in range(len(nums)):\n",
    "            sums += nums[i]\n",
    "            \n",
    "            count += d.get(sums-k,0)\n",
    "            d[sums] = d.get(sums,0) + 1\n",
    "            \n",
    "            print (sums,d)\n",
    "        \n",
    "        return(count)"
   ]
  },
  {
   "cell_type": "code",
   "execution_count": 4,
   "id": "9fcbe904",
   "metadata": {},
   "outputs": [
    {
     "name": "stdout",
     "output_type": "stream",
     "text": [
      "[0, 1, 2, 3]\n",
      "1 {0: 1, 1: 1}\n",
      "2 {0: 1, 1: 1, 2: 1}\n",
      "3 {0: 1, 1: 1, 2: 1, 3: 1}\n"
     ]
    },
    {
     "data": {
      "text/plain": [
       "2"
      ]
     },
     "execution_count": 4,
     "metadata": {},
     "output_type": "execute_result"
    }
   ],
   "source": [
    "s = Solution()\n",
    "s.subarraySum([1,1,1],2)"
   ]
  },
  {
   "cell_type": "code",
   "execution_count": 42,
   "id": "0c64ff36",
   "metadata": {},
   "outputs": [],
   "source": [
    "c = '101111122222222222222222222222333333333333333333333333333444444444444444444444444444444444'\n",
    "d = '122'"
   ]
  },
  {
   "cell_type": "code",
   "execution_count": 45,
   "id": "c12663c8",
   "metadata": {},
   "outputs": [
    {
     "name": "stdout",
     "output_type": "stream",
     "text": [
      "CPU times: user 6 µs, sys: 2 µs, total: 8 µs\n",
      "Wall time: 14.1 µs\n",
      "{'1', '4', '3', '2', '0'}\n",
      "6\n",
      "33\n",
      "27\n",
      "23\n",
      "1\n"
     ]
    }
   ],
   "source": [
    "%time\n",
    "print (set(c))\n",
    "d = {}\n",
    "for val in set(c):\n",
    "    \n",
    "    tot_count = c.count(val)\n",
    "    d[val] = tot_count\n",
    "    print (tot_count)"
   ]
  },
  {
   "cell_type": "code",
   "execution_count": 46,
   "id": "f2b89b36",
   "metadata": {},
   "outputs": [
    {
     "data": {
      "text/plain": [
       "{'1': 6, '4': 33, '3': 27, '2': 23, '0': 1}"
      ]
     },
     "execution_count": 46,
     "metadata": {},
     "output_type": "execute_result"
    }
   ],
   "source": [
    "d"
   ]
  },
  {
   "cell_type": "code",
   "execution_count": 71,
   "id": "5b26e3fa",
   "metadata": {},
   "outputs": [],
   "source": [
    "e = sorted(d,key=d.get,reverse=True)"
   ]
  },
  {
   "cell_type": "code",
   "execution_count": 78,
   "id": "e5161343",
   "metadata": {},
   "outputs": [],
   "source": [
    "d = [1,2,3,4,4,5,6,7,78,77,90,99,'45']"
   ]
  },
  {
   "cell_type": "code",
   "execution_count": 79,
   "id": "4cced23c",
   "metadata": {},
   "outputs": [],
   "source": [
    "def yieldListData(d,l):\n",
    "    for i in range(0,len(d),l):\n",
    "        yield d[i:i+l]"
   ]
  },
  {
   "cell_type": "code",
   "execution_count": 80,
   "id": "ebd6faa4",
   "metadata": {},
   "outputs": [
    {
     "name": "stdout",
     "output_type": "stream",
     "text": [
      "[1, 2] <class 'list'>\n",
      "[3, 4] <class 'list'>\n",
      "[4, 5] <class 'list'>\n",
      "[6, 7] <class 'list'>\n",
      "[78, 77] <class 'list'>\n",
      "[90, 99] <class 'list'>\n",
      "['45'] <class 'list'>\n"
     ]
    }
   ],
   "source": [
    "for k in yieldListData(d,2):\n",
    "    print (k,type(k))"
   ]
  },
  {
   "cell_type": "code",
   "execution_count": 81,
   "id": "5458830d",
   "metadata": {},
   "outputs": [
    {
     "name": "stdout",
     "output_type": "stream",
     "text": [
      "1\n"
     ]
    }
   ],
   "source": [
    "if \"df\" != 0:\n",
    "    print(1)"
   ]
  },
  {
   "cell_type": "code",
   "execution_count": 82,
   "id": "46d231b9",
   "metadata": {},
   "outputs": [],
   "source": [
    "s= \"ababcbacadefegdehijhklij\""
   ]
  },
  {
   "cell_type": "code",
   "execution_count": 83,
   "id": "40f972bf",
   "metadata": {},
   "outputs": [],
   "source": [
    "h_m = {}"
   ]
  },
  {
   "cell_type": "code",
   "execution_count": 84,
   "id": "f0813be2",
   "metadata": {},
   "outputs": [],
   "source": [
    "for i,c in enumerate(s):\n",
    "    if h_m.get(c,0)==0:\n",
    "        h_m[c]=[i]\n",
    "    else:\n",
    "        h_m[c].append(i)"
   ]
  },
  {
   "cell_type": "code",
   "execution_count": 85,
   "id": "df47d051",
   "metadata": {},
   "outputs": [
    {
     "data": {
      "text/plain": [
       "{'a': [0, 2, 6, 8],\n",
       " 'b': [1, 3, 5],\n",
       " 'c': [4, 7],\n",
       " 'd': [9, 14],\n",
       " 'e': [10, 12, 15],\n",
       " 'f': [11],\n",
       " 'g': [13],\n",
       " 'h': [16, 19],\n",
       " 'i': [17, 22],\n",
       " 'j': [18, 23],\n",
       " 'k': [20],\n",
       " 'l': [21]}"
      ]
     },
     "execution_count": 85,
     "metadata": {},
     "output_type": "execute_result"
    }
   ],
   "source": [
    "h_m"
   ]
  },
  {
   "cell_type": "code",
   "execution_count": 88,
   "id": "1c02cf33",
   "metadata": {},
   "outputs": [],
   "source": [
    "a = \"2323223\""
   ]
  },
  {
   "cell_type": "code",
   "execution_count": 92,
   "id": "7765ac67",
   "metadata": {},
   "outputs": [
    {
     "data": {
      "text/plain": [
       "'2222333'"
      ]
     },
     "execution_count": 92,
     "metadata": {},
     "output_type": "execute_result"
    }
   ],
   "source": [
    "\"\".join(sorted(a))"
   ]
  },
  {
   "cell_type": "code",
   "execution_count": 90,
   "id": "38b317e6",
   "metadata": {},
   "outputs": [
    {
     "data": {
      "text/plain": [
       "'2323223'"
      ]
     },
     "execution_count": 90,
     "metadata": {},
     "output_type": "execute_result"
    }
   ],
   "source": [
    "a\n"
   ]
  },
  {
   "cell_type": "code",
   "execution_count": 91,
   "id": "54f760cf",
   "metadata": {},
   "outputs": [
    {
     "ename": "AttributeError",
     "evalue": "'str' object has no attribute 'sort'",
     "output_type": "error",
     "traceback": [
      "\u001b[0;31m---------------------------------------------------------------------------\u001b[0m",
      "\u001b[0;31mAttributeError\u001b[0m                            Traceback (most recent call last)",
      "\u001b[0;32m/tmp/ipykernel_21661/2629139315.py\u001b[0m in \u001b[0;36m<module>\u001b[0;34m\u001b[0m\n\u001b[0;32m----> 1\u001b[0;31m \u001b[0ma\u001b[0m\u001b[0;34m.\u001b[0m\u001b[0msort\u001b[0m\u001b[0;34m(\u001b[0m\u001b[0;34m)\u001b[0m\u001b[0;34m\u001b[0m\u001b[0;34m\u001b[0m\u001b[0m\n\u001b[0m",
      "\u001b[0;31mAttributeError\u001b[0m: 'str' object has no attribute 'sort'"
     ]
    }
   ],
   "source": [
    "a.sort()"
   ]
  },
  {
   "cell_type": "code",
   "execution_count": 93,
   "id": "06c3be15",
   "metadata": {},
   "outputs": [
    {
     "ename": "TypeError",
     "evalue": "ord() expected a character, but string of length 3 found",
     "output_type": "error",
     "traceback": [
      "\u001b[0;31m---------------------------------------------------------------------------\u001b[0m",
      "\u001b[0;31mTypeError\u001b[0m                                 Traceback (most recent call last)",
      "\u001b[0;32m/tmp/ipykernel_21661/2572050905.py\u001b[0m in \u001b[0;36m<module>\u001b[0;34m\u001b[0m\n\u001b[0;32m----> 1\u001b[0;31m \u001b[0mord\u001b[0m\u001b[0;34m(\u001b[0m\u001b[0;34m\"143\"\u001b[0m\u001b[0;34m)\u001b[0m\u001b[0;34m-\u001b[0m\u001b[0mord\u001b[0m\u001b[0;34m(\u001b[0m\u001b[0;34m\"0\"\u001b[0m\u001b[0;34m)\u001b[0m\u001b[0;34m\u001b[0m\u001b[0;34m\u001b[0m\u001b[0m\n\u001b[0m",
      "\u001b[0;31mTypeError\u001b[0m: ord() expected a character, but string of length 3 found"
     ]
    }
   ],
   "source": [
    "ord(\"143\")-ord(\"0\")"
   ]
  },
  {
   "cell_type": "code",
   "execution_count": 94,
   "id": "81f7a2c8",
   "metadata": {},
   "outputs": [
    {
     "data": {
      "text/plain": [
       "49"
      ]
     },
     "execution_count": 94,
     "metadata": {},
     "output_type": "execute_result"
    }
   ],
   "source": [
    "ord(\"1\")"
   ]
  },
  {
   "cell_type": "code",
   "execution_count": 121,
   "id": "b8a74bde",
   "metadata": {},
   "outputs": [
    {
     "name": "stdout",
     "output_type": "stream",
     "text": [
      "CPU times: user 1 µs, sys: 0 ns, total: 1 µs\n",
      "Wall time: 3.58 µs\n"
     ]
    }
   ],
   "source": [
    "class Solution:\n",
    "    def returnCount(self,s,substr):\n",
    "        count = 0\n",
    "        for itr in range(0,len(s)-9):\n",
    "            if s[itr:itr+10] == substr:\n",
    "                count += 1\n",
    "                if count > 1:\n",
    "                    return True\n",
    "        return False\n",
    "    \n",
    "    def findRepeatedDnaSequences(self,s):\n",
    "        substr = []\n",
    "        out = set()\n",
    "        print (len(s))\n",
    "        for itr in range(0,len(s)-9):\n",
    "            substr.append(s[itr:itr+10])\n",
    "        \n",
    "        for sub_str in substr:\n",
    "            if self.returnCount(s,sub_str):\n",
    "                out.add(sub_str)\n",
    "        return list(out)"
   ]
  },
  {
   "cell_type": "code",
   "execution_count": 123,
   "id": "024f35c2",
   "metadata": {},
   "outputs": [
    {
     "name": "stdout",
     "output_type": "stream",
     "text": [
      "CPU times: user 5 µs, sys: 3 µs, total: 8 µs\n",
      "Wall time: 13.4 µs\n",
      "32\n"
     ]
    },
    {
     "data": {
      "text/plain": [
       "['AAAAACCCCC', 'CCCCCAAAAA']"
      ]
     },
     "execution_count": 123,
     "metadata": {},
     "output_type": "execute_result"
    }
   ],
   "source": [
    "%time\n",
    "s = Solution()\n",
    "s.findRepeatedDnaSequences(s=\"AAAAACCCCCAAAAACCCCCCAAAAAGGGTTT\")"
   ]
  },
  {
   "cell_type": "code",
   "execution_count": 146,
   "id": "376b7c39",
   "metadata": {},
   "outputs": [],
   "source": [
    "import re\n",
    "def palindrome(s, o):\n",
    "    return re.sub(\"[ ,.;:?!]\", \"\", s.lower()) == re.sub(\"[ ,.;:?!]\", \"\", o.lower())[::-1]"
   ]
  },
  {
   "cell_type": "code",
   "execution_count": 147,
   "id": "3f24d133",
   "metadata": {},
   "outputs": [
    {
     "name": "stdout",
     "output_type": "stream",
     "text": [
      "CPU times: user 5 µs, sys: 3 µs, total: 8 µs\n",
      "Wall time: 14.1 µs\n"
     ]
    },
    {
     "data": {
      "text/plain": [
       "False"
      ]
     },
     "execution_count": 147,
     "metadata": {},
     "output_type": "execute_result"
    }
   ],
   "source": [
    "%time\n",
    "palindrome(\"aba\",\"abaa\")"
   ]
  },
  {
   "cell_type": "code",
   "execution_count": 148,
   "id": "bb64d955",
   "metadata": {},
   "outputs": [],
   "source": [
    "def palindrome(s,o):\n",
    "    return s == o[::-1]"
   ]
  },
  {
   "cell_type": "code",
   "execution_count": 149,
   "id": "a1e21e93",
   "metadata": {},
   "outputs": [],
   "source": [
    "s= \"123\""
   ]
  },
  {
   "cell_type": "code",
   "execution_count": null,
   "id": "25161ca0",
   "metadata": {},
   "outputs": [],
   "source": []
  }
 ],
 "metadata": {
  "kernelspec": {
   "display_name": "Python 3 (ipykernel)",
   "language": "python",
   "name": "python3"
  },
  "language_info": {
   "codemirror_mode": {
    "name": "ipython",
    "version": 3
   },
   "file_extension": ".py",
   "mimetype": "text/x-python",
   "name": "python",
   "nbconvert_exporter": "python",
   "pygments_lexer": "ipython3",
   "version": "3.9.7"
  }
 },
 "nbformat": 4,
 "nbformat_minor": 5
}
