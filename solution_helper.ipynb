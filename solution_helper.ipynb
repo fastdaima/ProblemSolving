{
 "cells": [
  {
   "cell_type": "code",
   "execution_count": 1,
   "id": "1e9afe51",
   "metadata": {},
   "outputs": [],
   "source": [
    "from typing import List\n",
    "from collections import defaultdict,deque\n",
    "import pandas\n",
    "import fastai"
   ]
  },
  {
   "cell_type": "markdown",
   "id": "dec7262c",
   "metadata": {},
   "source": [
    "A X T B\n",
    "C D E X\n",
    "F X G X \n",
    "T X H I"
   ]
  },
  {
   "cell_type": "code",
   "execution_count": null,
   "id": "088497ed",
   "metadata": {},
   "outputs": [],
   "source": []
  }
 ],
 "metadata": {
  "kernelspec": {
   "display_name": "Python 3 (ipykernel)",
   "language": "python",
   "name": "python3"
  },
  "language_info": {
   "codemirror_mode": {
    "name": "ipython",
    "version": 3
   },
   "file_extension": ".py",
   "mimetype": "text/x-python",
   "name": "python",
   "nbconvert_exporter": "python",
   "pygments_lexer": "ipython3",
   "version": "3.9.7"
  }
 },
 "nbformat": 4,
 "nbformat_minor": 5
}
